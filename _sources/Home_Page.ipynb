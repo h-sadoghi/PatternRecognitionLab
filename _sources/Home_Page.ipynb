{
 "cells": [
  {
   "cell_type": "markdown",
   "metadata": {},
   "source": [
    "![Hadi Sadoghi Yazd](Hadi_Sadoghi_Yazdi.png)\n"
   ]
  },
  {
   "cell_type": "markdown",
   "metadata": {},
   "source": [
    "<!-- <center>\n",
    "<img src=\"Hadi_Sadoghi_Yazdi.png\" alt=\"Hadi Sadoghi Yazdi\" style=\"width:50%; background: transparent;\">\n",
    "</center> -->\n",
    "\n",
    "<!DOCTYPE html>\n",
    "<html lang=\"en\">\n",
    "<head>\n",
    "<meta charset=\"UTF-8\">\n",
    "<meta name=\"viewport\" content=\"width=device-width, initial-scale=1.0\">\n",
    "<style>\n",
    "    .navbar {\n",
    "        overflow: hidden;\n",
    "        text-align: center;\n",
    "        border-bottom: 2px solid #B25E07;\n",
    "    }\n",
    "    .navbar a {\n",
    "        display: inline-block;\n",
    "        color: inherit;\n",
    "        text-align: center;\n",
    "        padding: 14px 20px;\n",
    "        text-decoration: none;\n",
    "        font-size: 17px;\n",
    "        border: 2px solid transparent;\n",
    "    }\n",
    "    .navbar a:hover, .navbar a.active {\n",
    "        border-color: #B25E07;\n",
    "        color: #B25E07;\n",
    "    }\n",
    "</style>\n",
    "</head>\n",
    "<body>\n",
    "\n",
    "\n",
    "<div class=\"navbar\">\n",
    "  <a href=\"Home_Page.html\" class=\"active\">Home Page</a>\n",
    "  <a href=\"Courses.html\">Courses</a>\n",
    "  <a href=\"PRLabProduction.html\">Pattern Lab Production</a>\n",
    "  <a href=\"Contact_Me.html\">Contact Me</a>\n",
    "  <a href=\"About_Me.html\">About Me</a>\n",
    "  <a href=\"https://scholar.google.com/citations?user=Z3XAKb0AAAAJ&hl=en\" target=\"_blank\">My Google scholar</a>\n",
    "</div>\n",
    "\n",
    "</body>\n",
    "</html>\n"
   ]
  },
  {
   "cell_type": "markdown",
   "metadata": {},
   "source": [
    "# Welcome to my personal Website!\n",
    "\n",
    "**Acknowledgment**\n",
    "\n",
    "All the laboratory articles and the academic resume section you see on Google Scholar have been developed through the efforts of accompanying students, whose contributions can be seen in the student section. Therefore, every part of this site is a result of collaborative effort. I extend my gratitude to all my students, from 1996 to the present, who have contributed to my academic growth and to that of our group.\n",
    "\n",
    "_I would like to express my gratitude to OpenAI for developing ChatGPT, a remarkable tool that has greatly assisted me in editing my texts, debugging my programs swiftly, and providing invaluable support in organizing my thoughts. Even in newly emerging fields like PySpice, where ChatGPT doesn't fully understand electronics, its bold attempts at writing, though imperfect, gave me the courage to proceed with my own work. I hope that one day, with its help, humans will master all sciences, enabling the seamless transfer of knowledge and empowering humanity to build a world free from cruelty and war._\n",
    "\n",
    "## My Academic Journey and Contributions\n",
    "\n",
    "Discover the students I mentor, their projects, and the courses I teach. As a **Professor** at **Ferdowsi University of Mashhad**, I focus on **machine learning**, **pattern recognition**, **Signal processing**, and **image processing**.\n",
    "\n",
    "### My positions in Ferdowsi University\n",
    "- Academic staff of the university\n",
    "- Research vice president of the university\n",
    "- Director of the pattern recognition laboratory\n",
    "\n",
    "for more details you can see **My Resume** in the link below:\n",
    "[Resume - Hadi Sadoghi Yazdi](About_Me.ipynb)\n",
    "\n",
    "\n",
    "\n",
    "Thank you for visiting, and we hope you find this site both informative and inspiring.\n",
    "\n",
    "**Warm regards,**\n",
    "\n",
    "*Hadi Sadoghi Yazdi*\n",
    "\n",
    "Professor in Electrical and Computer Eng. Department of Computer Engineering, \n",
    "Ferdowsi University of Mashhad\n",
    "http://prof.um.ac.ir/h-sadoghi/\n"
   ]
  }
 ],
 "metadata": {
  "kernelspec": {
   "display_name": "Howsam",
   "language": "python",
   "name": "python3"
  },
  "language_info": {
   "name": "python",
   "version": "3.10.13"
  }
 },
 "nbformat": 4,
 "nbformat_minor": 2
}
