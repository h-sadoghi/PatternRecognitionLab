{
  "cells": [
    {
      "cell_type": "markdown",
      "metadata": {
        "id": "0XPt5TMgz6SE"
      },
      "source": [
        "# Author Information\n",
        "\n",
        "Author: Zeynab Teymoori\n",
        "* Bachelor's Degree in Computer Engineering, Ferdowsi University of Mashhad, Razavi Khorasan, Iran (2020-2024)\n",
        "\n",
        "Supervisor: Prof. Hadi Sadoghi Yazdi\n",
        "\n",
        "Laboratory: Pattern Recognition Laboratory, Department of Engineering\n",
        "\n",
        "Address: Ferdowsi University of Mashhad, Razavi Khorasan, Iran\n",
        "\n",
        "Email: zeynab.teymoori@mail.um.ac.ir"
      ]
    },
    {
      "cell_type": "markdown",
      "metadata": {
        "id": "3pcL7CnvTL1v"
      },
      "source": [
        "## What is LLM\n",
        "\n",
        "LLM stands for Large Language Model. It refers to a type of artificial intelligence (AI) model that is trained on a massive amount of text data to generate language outputs that are coherent and natural-sounding.\n",
        "\n",
        "LLMs are typically based on deep learning architectures, such as transformer models, and are trained on vast amounts of text data, often in the order of billions or even trillions of words. This training enables the model to learn patterns, relationships, and structures of language, allowing it to generate text that is often indistinguishable from human-written text."
      ]
    },
    {
      "cell_type": "markdown",
      "metadata": {
        "id": "xL20Hk_cTQPe"
      },
      "source": [
        "### Different types pf LLM\n",
        "\n",
        "Here's a table that discusses the three main types of large language models:\n",
        "\n",
        "\n",
        "| **Type**                       | **Function**                                                 | **Training Objective**                                           | **Strengths**                                                  | **Challenges**                                               | **Example**                                    |\n",
        "|--------------------------------|--------------------------------------------------------------|------------------------------------------------------------------|---------------------------------------------------------------|-------------------------------------------------------------|------------------------------------------------|\n",
        "| **Autoregressive Language Models** | Generate text by predicting the next word based on preceding words | Maximize likelihood of generating the correct next word given context | Excel at generating coherent and contextually relevant text    | Computationally expensive, prone to repetitive or irrelevant responses | GPT-3                                          |\n",
        "| **Transformer-based Models**   | Utilize transformer architecture to process and generate text | Capture long-range dependencies and contextual information       | Effective in processing and generating text with rich contextual understanding | Requires large amounts of data and computational resources for training, may suffer from model bias | RoBERTa (Robustly Optimized BERT Pretraining Approach) by Facebook AI |\n",
        "| **Encoder-Decoder Models**     | Used for machine translation, summarization, and question-answering tasks | Encode input into a fixed-length representation for output generation | Versatile for various NLP tasks                               | Complexity in training, can struggle with very long sequences and maintaining context across them | MarianMT (Marian Neural Machine Translation) by the University of Edinburgh |"
      ]
    },
    {
      "cell_type": "markdown",
      "metadata": {
        "id": "W9gsO5IZkhXN"
      },
      "source": [
        "### LLM Architecture\n",
        "\n",
        "\"The architecture of Large Language Model primarily consists of multiple layers of neural networks, like recurrent layers, feedforward layers, embedding layers, and attention layers. These layers work together to process the input text and generate output predictions.\"\n",
        "\n",
        "[Source: Analyticsvidhya](https://www.analyticsvidhya.com/blog/2023/03/an-introduction-to-large-language-models-llms/)\n",
        "\n",
        "\n",
        "\n",
        "*   The embedding layer in neural networks transforms discrete input data into dense vector representations. By converting categories, such as words in text, into continuous vectors, the embedding layer helps the model learn and retain the relationships and similarities between these categories. This dense representation allows the model to process and understand the data more effectively, making it a crucial component in tasks like sentiment analysis, machine translation, and recommendation systems. Through training, the embeddings capture nuanced patterns and contextual information, enhancing the model's ability to make accurate predictions and generate relevant outputs.                                                             \n",
        "\n",
        "\n",
        "* The recurrent layer processes sequences of data, such as sentences, by interpreting each word one at a time. It maintains a hidden state that updates with each new word, enabling the model to understand the context and relationships between words over time. This sequential processing allows the recurrent layer to capture dependencies and patterns within the text, making it essential for tasks like language modeling, speech recognition, and sequence prediction. Through its ability to maintain and update context, the recurrent layer enhances the model's capability to generate coherent and contextually relevant outputs.\n",
        "\n",
        "\n",
        "* The attention mechanism empowers a language model to concentrate on specific segments of the input text that are important for the current task. By utilizing this layer, the model can produce highly precise results.\n"
      ]
    },
    {
      "cell_type": "markdown",
      "metadata": {
        "id": "AX3ZSN2xk2Qu"
      },
      "source": [
        "## RAG\n",
        "\n",
        "Working with large language models (LLMs) presents numerous challenges, including domain knowledge gaps, issues with factual accuracy, and potential generation of incorrect information. Retrieval Augmented Generation (RAG) emerges as an effective solution to address these challenges by enhancing LLMs with external knowledge sources like databases. RAG proves especially valuable in scenarios demanding substantial knowledge or specific domain expertise that requires constant updating. An inherent advantage of RAG is its ability to adapt without the need for extensive retraining for task-specific applications. Recently, RAG has gained popularity for its utilization in conversational agents.\n",
        "\n",
        "Here is an implementation of RAG for the question-answering task, especially for interacting with documents.\n"
      ]
    },
    {
      "cell_type": "markdown",
      "metadata": {
        "id": "4CsMRsUSV_M-"
      },
      "source": [
        "## Imports\n",
        "\n",
        "The notebook requires Hugging Face `sentence_transformers` and `PyPDF2` as additional dependencies. If you have not already installed them, you can use these commands:\n",
        "\n",
        "```python -m pip install sentence_transformers ```\n",
        "```python -m pip install PyPDF2```\n",
        "\n",
        "Or, run the next cell to install them directly within the notebook:"
      ]
    },
    {
      "cell_type": "markdown",
      "metadata": {},
      "source": [
        "## necessary requirments\n",
        "\n",
        "!pip install sentence_transformers\n",
        "!pip install PyPDF2"
      ]
    },
    {
      "cell_type": "markdown",
      "metadata": {
        "id": "-SXzbSeDXpI-"
      },
      "source": [
        "## Create Prompt\n",
        "\n",
        "Retrieve and augment phaze"
      ]
    },
    {
      "cell_type": "markdown",
      "metadata": {
        "id": "9xUl7Yi9xCcN"
      },
      "source": [
        "## Note\n",
        "\n",
        "This function is used to extract text from a PDF file uploaded by the user."
      ]
    },
    {
      "cell_type": "markdown",
      "metadata": {
        "id": "JtOMUMCvxRSA"
      },
      "source": [
        "## Guide1\n",
        "\n",
        "This function clean_text that cleans the extracted text by removing non-ASCII characters, control characters, and image tags. This function is used to preprocess the extracted text before feeding it into the LLM."
      ]
    },
    {
      "cell_type": "markdown",
      "metadata": {
        "id": "5vHbKB5QxkRs"
      },
      "source": [
        "## Guide2\n",
        "\n",
        "This function chunks the cleaned text into sentences and then groups them into fixed-size chunks (e.g., 3 sentences per chunk). This function is used to prepare the text for encoding with the LLM."
      ]
    },
    {
      "cell_type": "markdown",
      "metadata": {
        "id": "Aps4WCQ0Yg41"
      },
      "source": [
        "## Generate Phaze\n",
        "\n",
        "This function initializes four models:\n",
        "\n",
        "1. model_summary: a SentenceTransformer model for generating summary embeddings.\n",
        "2. model_hypothetical: a SentenceTransformer model for generating hypothetical embeddings.\n",
        "3. model_full_text: a SentenceTransformer model for generating full-text embeddings.\n",
        "4. qa_pipeline: a question-answering pipeline using the EleutherAI/gpt-neo-2.7B model.\n",
        "\n",
        "These models are used for encoding the text chunks and the user's query."
      ]
    },
    {
      "cell_type": "markdown",
      "metadata": {
        "id": "mvdJUEHRXcNu"
      },
      "source": [
        "## Main\n",
        "\n",
        "This function orchestrates the entire RAG system. Here's a overview of what the main function does:\n",
        "\n",
        "1. Uploads a PDF file and extracts its text using extract_text_from_pdf.\n",
        "2. Cleans and chunks the text using clean_text and chunk_text_by_sentences.\n",
        "3. Encodes the text chunks using the three SentenceTransformer models.\n",
        "4. Concatenates and normalizes the embeddings.\n",
        "5. Encodes the user's query using the same three SentenceTransformer models.\n",
        "6. Calculates the cosine similarity between the query embedding and the text chunk embeddings.\n",
        "7. Retrieves the top-k relevant documents based on the similarity scores.\n",
        "8. Uses the question-answering pipeline to generate an answer to the user's query based on the most relevant document.\n",
        "The main function is called when the script is run, and it interacts with the user to upload a PDF file and input a query.\n",
        "\n",
        "The system extracts relevant text from the uploaded PDF file, encodes the text and the query, calculates the similarity scores, and generates an answer to the query based on the most relevant document."
      ]
    }
  ],
  "metadata": {
    "accelerator": "GPU",
    "colab": {
      "gpuType": "T4",
      "provenance": []
    },
    "kernelspec": {
      "display_name": "Python 3",
      "name": "python3"
    },
    "language_info": {
      "name": "python"
    }
  },
  "nbformat": 4,
  "nbformat_minor": 0
}
