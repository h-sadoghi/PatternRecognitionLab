{
 "cells": [
  {
   "cell_type": "markdown",
   "metadata": {},
   "source": [
    "# Solution Method"
   ]
  },
  {
   "cell_type": "markdown",
   "metadata": {},
   "source": [
    "## Ordinary Least Squares (OLS) Regression\n",
    "1. Formulation of the Problem\n",
    "2. Objective Function\n",
    "3. Expanding the Objective Function\n",
    "4. Finding the Minimum\n",
    "5. Solving for $ \\boldsymbol{\\beta} $\n",
    "6. Solution Summary\n",
    "7. Additional Considerations\n",
    "8. Example\n",
    "\n",
    "## Least Mean Squares (LMS) and Recursive Least Squares (RLS) Algorithms\n",
    "\n",
    "1. Formulation of the Problem\n",
    "2. Objective Function\n",
    "3. Gradient Descent Approach\n",
    "4. Convergence Analysis\n",
    "5. Variants of LMS\n",
    "\n",
    "## Kalman Filter\n",
    "\n",
    "1. Formulation of the Problem\n",
    "2. State Space Model\n",
    "3. Prediction Step\n",
    "4. Update Step\n",
    "5. Convergence and Stability\n",
    "\n",
    "## Proximal Mapping: A Comprehensive Overview\n",
    "1. Proximal Operator Definition\n",
    "2. Proximal Operator for $ g(x) = \\lambda |x| $\n",
    "3. Interpretation\n",
    "4. Proximal Operator for the Zero Function $ g(x) \\equiv 0 $\n",
    "5. Conclusion\n",
    "\n"
   ]
  }
 ],
 "metadata": {
  "language_info": {
   "name": "python"
  }
 },
 "nbformat": 4,
 "nbformat_minor": 2
}
