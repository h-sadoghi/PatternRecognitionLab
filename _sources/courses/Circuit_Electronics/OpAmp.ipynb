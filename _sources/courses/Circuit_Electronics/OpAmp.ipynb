{
 "cells": [
  {
   "cell_type": "markdown",
   "metadata": {},
   "source": [
    "# Operational Amplifier\n"
   ]
  },
  {
   "cell_type": "markdown",
   "metadata": {},
   "source": [
    "The operational amplifier (op-amp), originating in the 1940s with vacuum tubes, performs mathematical operations like addition and subtraction. An op-amp is a high-gain differential amplifier characterized by its high input impedance and low output impedance. The differential amplifier circuit, a fundamental configuration in integrated circuits (ICs), is widely utilized due to its versatility. As illustrated in following Figure, this circuit features two distinct inputs and outputs, with the emitters connected together. While many differential amplifier circuits rely on dual voltage supplies, they can also function with a single supply, highlighting their adaptability in various applications.\n",
    "\n",
    "![BasicDifferentialAmplifier](../Circuit_Electronics/CircuitElectronicsImages/BasicDifferentialAmplifier.PNG)\n",
    "\n",
    "Ideal Op Amp rules state no current flows into either input terminal and there is no voltage difference between the inputs. Therefore, the input impedance of the differential amplifier must be High. As shown below with the equivalent circuit, $ R_i $ represents the input impedance in the equivalent circuit."
   ]
  },
  {
   "cell_type": "markdown",
   "metadata": {},
   "source": [
    "##  AC equivalent of op-amp circuit:\n",
    "\n",
    "![AC equivalent of op-amp circuit1](../Circuit_Electronics/CircuitElectronicsImages/Equivalent_OpAmp.png)\n"
   ]
  },
  {
   "cell_type": "markdown",
   "metadata": {},
   "source": [
    "  ### Basic Op-Amp\n",
    "\n",
    " The basic circuit connection using an op-amp is shown in  follwing Figure. \n",
    "- An input signal $ V_1 $ is applied to the inverting input (minus input) of the op-amp through a resistor $ R_1 $.\n",
    "- The output of the op-amp is fed back to the same inverting input through a feedback resistor $ R_f $.\n",
    "- The non-inverting input (plus input) of the op-amp is connected to ground.\n",
    "\n",
    "For an inverting amplifier, KVL analysis gives:\n",
    "\n",
    "![Inverting_OpAmp_1](../Circuit_Electronics/CircuitElectronicsImages/Inverting_OpAmp.PNG)\n",
    "\n",
    "First, we solve with Ideal equivalent of op-amp:\n",
    "\n",
    "$$\n",
    "-v_{in} + R_1 i + R_f i + v_{out} = 0\n",
    "$$\n",
    "\n",
    "Rearranged to:\n",
    "\n",
    "$$\n",
    "v_{out} = v_{in} - (R_1 + R_f) i\n",
    "$$\n",
    "\n",
    "With:\n",
    "\n",
    "$$\n",
    "i = \\frac{v_{in}}{R_1}\n",
    "$$\n",
    "\n",
    "Thus,\n",
    "\n",
    "$$\n",
    "v_{out} = -\\frac{R_f}{R_1} v_{in}\n",
    "$$\n",
    "\n",
    "Second, we try with practical equivalent of op-amp:\n",
    "\n",
    "![NonInverting_Preactical1](../Circuit_Electronics/CircuitElectronicsImages/Inverting_OpAmp_Non_ideal.PNG)\n",
    "\n",
    "After solving, with $ R_i $ approaching infinity and $ A_v $ becoming large, we arrive at the same results again.  "
   ]
  },
  {
   "cell_type": "markdown",
   "metadata": {},
   "source": [
    "### Op-amp IC is the 741 internal circuit\n",
    "\n",
    "![OpAmp_741_Internal1](../Circuit_Electronics/CircuitElectronicsImages/OpAmp_741_Internal.PNG)"
   ]
  },
  {
   "cell_type": "markdown",
   "metadata": {},
   "source": [
    "## Summing amplifier\n",
    "\n",
    "This circuit is similar to the inverting amplifier. Proof:\n",
    "\n",
    "$$\n",
    "v_{\\text{out}} = -\\frac{R_f}{R} \\cdot (v_1 + v_2 + v_3)\n",
    "$$\n",
    "\n",
    "\n",
    "![SummingAmplifier_OpAmp1](../Circuit_Electronics/CircuitElectronicsImages/SummingAmplifier_OpAmp.PNG)\n"
   ]
  },
  {
   "cell_type": "markdown",
   "metadata": {},
   "source": [
    "##  Difference amplifier\n",
    "\n",
    "Proof:\n",
    "$ v_\\text{out} = v_2 −v_1 $\n",
    "\n",
    "![Difference amplifier1](../Circuit_Electronics/CircuitElectronicsImages/DifferenceAmplifier_OpAmp.PNG)\n"
   ]
  },
  {
   "cell_type": "markdown",
   "metadata": {},
   "source": [
    "## Noninverting Amplifier\n",
    "\n",
    "Proof:\n",
    "\n",
    "$$\n",
    "v_{\\text{out}} = 1 + \\frac{R_f}{R_1} \\cdot v_{\\text{in}}\n",
    "$$\n",
    "\n",
    "![NonInvertingAmplifier_OpAmp1](../Circuit_Electronics/CircuitElectronicsImages/NonInvertingAmplifier_OpAmp.PNG)"
   ]
  },
  {
   "cell_type": "markdown",
   "metadata": {},
   "source": [
    "## CASCADED STAGES\n",
    "\n",
    "Proof:\n",
    "\n",
    "$$\n",
    "v_{\\text{out}} = \\frac{R_2}{R_1} \\cdot \\frac{R_f}{R} \\cdot (v_1 + v_2)\n",
    "$$\n",
    "\n",
    "\n",
    "![CascadeStage_OpAmp](../Circuit_Electronics/CircuitElectronicsImages/CascadeStage_OpAmp.PNG)\n"
   ]
  },
  {
   "cell_type": "markdown",
   "metadata": {},
   "source": [
    "## Instrumentation amplifier\n",
    "\n",
    "Proof: \n",
    "\n",
    "$$\n",
    "v_{\\text{out}} = \\frac{R_4}{R_3} \\cdot \\frac{1 + \\frac{R_2}{R_1}}{1 + \\frac{R_4}{R_3}} \\cdot v_+ - \\frac{R_2}{R_1} \\cdot v_-\n",
    "$$\n",
    "\n",
    "Given the relationships:\n",
    "\n",
    "$$\n",
    "\\frac{R_4}{R_3} = \\frac{R_2}{R_1} = K\n",
    "$$\n",
    "\n",
    "The output voltage $ v_{\\text{out}} $ can be expressed as:\n",
    "\n",
    "$$\n",
    "v_{\\text{out}} = K(v_+ - v_-) = K \\cdot v_d\n",
    "$$\n",
    "\n",
    "![InstrumentationAmplifier1](../Circuit_Electronics/CircuitElectronicsImages/InstrumentationAmplifier.PNG)\n",
    "\n",
    "\n",
    "\n"
   ]
  },
  {
   "cell_type": "markdown",
   "metadata": {},
   "source": [
    " \n",
    "## VOLTAGE BUFFER  \n",
    "A voltage buffer circuit provides a means of isolating an input signal from a load by using a stage having unity voltage gain, with no phase or polarity inversion, and acting as an ideal circuit with very high input impedance and low output impedance. \n",
    "\n",
    "![BufferOpAmp_Circuit1](../Circuit_Electronics/CircuitElectronicsImages/Buffer_Opamp.png)\n",
    "\n"
   ]
  },
  {
   "cell_type": "markdown",
   "metadata": {},
   "source": [
    "##   Voltage-Controlled Current Source \n",
    "\n",
    "An ideal form of circuit providing an output current controlled by an input voltage is that of  following Figure. The output current is dependent on the input voltage. \n",
    "\n",
    "![VoltageControlledCurrentSource1](../Circuit_Electronics/CircuitElectronicsImages/VoltageControlledCurrentSource.png)\n"
   ]
  },
  {
   "cell_type": "markdown",
   "metadata": {},
   "source": [
    "##   Current-Controlled Voltage Source \n",
    "An ideal form of a voltage source controlled by an input current is shown in  following Figure. The output voltage is dependent on the input current.\n",
    "\n",
    "![CurrentControlledVoltageSource1](../Circuit_Electronics/CircuitElectronicsImages/CurrentControlledVoltageSource.png)"
   ]
  },
  {
   "cell_type": "markdown",
   "metadata": {},
   "source": [
    "## Current-Controlled Current Source\n",
    "\n",
    "An ideal form of a circuit providing an output current dependent on an input current is shown in  following Figure. In this type of circuit, an output current is provided dependent on the \n",
    "input current.\n",
    "\n",
    "![CurrentControlledCurrentSource1](../Circuit_Electronics/CircuitElectronicsImages/CurrentControlledCurrentSource.png)\n",
    "\n",
    "$$\n",
    "I_o = I_1 + I_2 = I_1 + \\frac{I_1 R_1}{R_2} = a_1 + \\frac{R_1}{R_2} \\cdot b I_1 = k I_1\n",
    "$$\n"
   ]
  },
  {
   "cell_type": "markdown",
   "metadata": {},
   "source": [
    "## ACTIVE FILTERS  \n",
    "\n",
    "Active filters are widely used in electronic circuits, leveraging operational amplifiers (op-amps) to build filter circuits with enhanced performance. While passive filters can be constructed using only resistors and capacitors, active filters incorporate an amplifier to provide voltage amplification, signal isolation, and buffering.\n",
    "\n",
    "A low-pass filter is designed to allow signals with frequencies below a certain cutoff frequency, $ f_{OH} $, to pass while attenuating signals above this threshold, as shown in Fig. a. Conversely, a high-pass filter allows signals above a cutoff frequency, $ f_{OL} $, to pass, as idealized in Fig. b. A bandpass filter is configured to pass signals within a specific frequency range, bounded by two cutoff frequencies, as illustrated in Fig. c.\n",
    "\n",
    "![LP_HP_BP](../Circuit_Electronics/CircuitElectronicsImages/LPF_HPF_BPF.PNG)\n",
    "\n",
    "### Low-Pass Filter \n",
    "\n",
    "A first-order, low-pass filter using a single resistor and capacitor as in  following Figure. \n",
    "$ A_v = 1 + \\frac{R_F}{R_G} $\n",
    "\n",
    "at a cutoff frequency of \n",
    "\n",
    "$ f_{OH} = \\frac{1}{2\\pi R_1 C_1} $\n",
    "\n",
    "![First-orderlowpassactivefilter1](../Circuit_Electronics/CircuitElectronicsImages/First-orderlowpassactivefilter.png)\n"
   ]
  },
  {
   "cell_type": "markdown",
   "metadata": {},
   "source": [
    "## The Integrator Amplifier\n",
    "\n",
    "![Integrator_with_OpAmp1](../Circuit_Electronics/CircuitElectronicsImages/Integrator_with_OpAmp.PNG)\n"
   ]
  },
  {
   "cell_type": "markdown",
   "metadata": {},
   "source": [
    "## Solve Differential Equations Using Op Amps\n",
    "\n",
    "![SolvingDifferentialEquation_OpAmp1](../Circuit_Electronics/CircuitElectronicsImages/SolvingDifferentialEquation_OpAmp.PNG)"
   ]
  }
 ],
 "metadata": {
  "kernelspec": {
   "display_name": ".M_HomePage",
   "language": "python",
   "name": "python3"
  },
  "language_info": {
   "codemirror_mode": {
    "name": "ipython",
    "version": 3
   },
   "file_extension": ".py",
   "mimetype": "text/x-python",
   "name": "python",
   "nbconvert_exporter": "python",
   "pygments_lexer": "ipython3",
   "version": "3.12.4"
  }
 },
 "nbformat": 4,
 "nbformat_minor": 2
}
