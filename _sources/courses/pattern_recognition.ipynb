{
 "cells": [
  {
   "cell_type": "markdown",
   "metadata": {},
   "source": [
    "# Pattern Recognition"
   ]
  },
  {
   "cell_type": "markdown",
   "metadata": {},
   "source": [
    "<!-- ![Pattern](PR.JPG) -->\n",
    "<!-- <img src=\"PR1.jpg\" alt=\"Pattern Recognition\" width=\"150\" height=\"150\"> -->\n",
    "![Pattern Recognition](PR1.jpg)\n",
    "\n",
    "**PR** is a field of study focused on identifying patterns and trends within data to make informed decisions.\n",
    "In this course, students will learn how PR techniques are used in various applications such as image and text recognition. By mastering PR algorithms, students will gain valuable skills in data analysis and decision-making processes.\n",
    "\n",
    "## Sections of Pattern Recognition\n",
    "- [Introduction of Pattern Recognition](PR/Introduction/PR_intro.ipynb)\n",
    "- [Data Visualization](PR/Visualization/PR_intro_Visualization.ipynb)\n",
    "- [Clustering](PR/Clustering/PR_intro_Clustering.ipynb)\n",
    "- [Regression](PR/Regression/Introduction_Regression.ipynb)\n",
    "- [Classification](PR/Classification/PR_intro_Classification.ipynb)\n",
    "- [Bayes Estimation](PR/BayesEstimation/BayesEstimation.ipynb)\n",
    "- [Supplementaries](../courses/Supplementary1.ipynb)\n",
    "\n",
    "We follow remaining contents in **Machine Learning** include:\n",
    "Feature Reduction, kernel regression, gaussian process, ensemble learning, federated learning, diffusion network, active learning, contrastive learning, on-line learning, deep learning.\n",
    "\n"
   ]
  },
  {
   "cell_type": "markdown",
   "metadata": {},
   "source": [
    "## The outline of Pattern Recognition book:\n",
    "\n",
    "1. **Introduction**\n",
    "   - Introduction to Pattern Recognition\n",
    "     - Datasets\n",
    "     - Models\n",
    "     - Cost Functions\n",
    "     - Learning Rules\n",
    "\n",
    "2. **Visualization**\n",
    "   - Introduction to Visualization in Pattern Recognition\n",
    "\n",
    "3. **Clustering**\n",
    "   - Introduction to Clustering\n",
    "     - Clustering Techniques\n",
    "     - Fuzzy C-Means (FCM)\n",
    "     - FCM: Saghi's Project (2 points)\n",
    "     - Linkage Clustering (2 points)\n",
    "     - E-Insensitive Linkage Clustering (2 points)\n",
    "     - Self-Organizing Feature Map (SOFM) Project (2 points)\n",
    "\n",
    "4. **Regression**\n",
    "   - Introduction to Regression\n",
    "     - Linear Regression\n",
    "     - Non-Linear Regression\n",
    "     - Linearization Techniques\n",
    "     - Kernel Regression\n",
    "     - Evaluation and Model Selection\n",
    "     - Solution Approaches for Regression\n",
    "     - Theoretical Aspects of Regression\n",
    "     - Applications in Pattern Recognition\n",
    "\n",
    "5. **Classification**\n",
    "   - Introduction to Classification\n",
    "     - Support Vector Data Description (SVDD)\n",
    "     - Support Vector Machines (SVM)\n",
    "     - Fisher's Linear Discriminant\n",
    "     - Kernel Fisher Discriminant Analysis\n",
    "     - Decision Trees (2 points)\n",
    "\n",
    "6. **Bayes Estimation**\n",
    "   - Introduction to Bayes Estimation\n",
    "     - Kernel Density Estimation (KDE)\n",
    "     - Parametric Density Estimation\n",
    "     - Gaussian Mixture Models (GMM)\n",
    "\n",
    "7. **Supplementaries**\n"
   ]
  }
 ],
 "metadata": {
  "language_info": {
   "name": "python"
  }
 },
 "nbformat": 4,
 "nbformat_minor": 2
}
